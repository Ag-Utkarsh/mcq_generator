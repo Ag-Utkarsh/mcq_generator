{
 "cells": [
  {
   "cell_type": "code",
   "execution_count": 3,
   "metadata": {},
   "outputs": [],
   "source": [
    "import os\n",
    "import json\n",
    "import pandas as pd\n",
    "import traceback"
   ]
  },
  {
   "cell_type": "code",
   "execution_count": 14,
   "metadata": {},
   "outputs": [
    {
     "name": "stdout",
     "output_type": "stream",
     "text": [
      "Note: you may need to restart the kernel to use updated packages.\n"
     ]
    }
   ],
   "source": [
    "pip install -qU langchain-groq"
   ]
  },
  {
   "cell_type": "code",
   "execution_count": 4,
   "metadata": {},
   "outputs": [],
   "source": [
    "import getpass\n",
    "import os\n",
    "\n",
    "if not os.environ.get(\"GROQ_API_KEY\"):\n",
    "  os.environ[\"GROQ_API_KEY\"] = getpass.getpass(\"Enter API key for Groq: \")"
   ]
  },
  {
   "cell_type": "code",
   "execution_count": 5,
   "metadata": {},
   "outputs": [],
   "source": [
    "from langchain_groq import ChatGroq\n",
    "\n",
    "model = ChatGroq(model=\"llama3-8b-8192\",temperature=0.5)"
   ]
  },
  {
   "cell_type": "code",
   "execution_count": 6,
   "metadata": {},
   "outputs": [],
   "source": [
    "from langchain_core.prompts import PromptTemplate\n",
    "from langchain.chains import LLMChain\n",
    "from langchain.chains import SequentialChain "
   ]
  },
  {
   "cell_type": "markdown",
   "metadata": {},
   "source": [
    "## implementing callback in groq"
   ]
  },
  {
   "cell_type": "code",
   "execution_count": 7,
   "metadata": {},
   "outputs": [
    {
     "name": "stdout",
     "output_type": "stream",
     "text": [
      "Chain started with no serialized data\n",
      "Chain ChatPromptTemplate started\n",
      "Chain ended, outputs: messages=[HumanMessage(content='What is 1 + 2?')]\n",
      "Chat model started\n",
      "Chat model ended, response: generations=[[ChatGeneration(text='The answer to 1 + 2 is 3.', generation_info={'finish_reason': 'stop', 'logprobs': None}, message=AIMessage(content='The answer to 1 + 2 is 3.', response_metadata={'token_usage': {'completion_tokens': 13, 'prompt_tokens': 18, 'total_tokens': 31, 'completion_time': 0.010833333, 'prompt_time': 0.002565972, 'queue_time': 0.017806698, 'total_time': 0.013399305}, 'model_name': 'llama3-8b-8192', 'system_fingerprint': 'fp_6a6771ae9c', 'finish_reason': 'stop', 'logprobs': None}, id='run-9b9842ce-ec89-4dce-9cfb-6981d6f19830-0', usage_metadata={'input_tokens': 18, 'output_tokens': 13, 'total_tokens': 31}))]] llm_output={'token_usage': {'completion_tokens': 13, 'prompt_tokens': 18, 'total_tokens': 31, 'completion_time': 0.010833333, 'prompt_time': 0.002565972, 'queue_time': 0.017806698, 'total_time': 0.013399305}, 'model_name': 'llama3-8b-8192', 'system_fingerprint': 'fp_6a6771ae9c'} run=None\n",
      "Chain ended, outputs: content='The answer to 1 + 2 is 3.' response_metadata={'token_usage': {'completion_tokens': 13, 'prompt_tokens': 18, 'total_tokens': 31, 'completion_time': 0.010833333, 'prompt_time': 0.002565972, 'queue_time': 0.017806698, 'total_time': 0.013399305}, 'model_name': 'llama3-8b-8192', 'system_fingerprint': 'fp_6a6771ae9c', 'finish_reason': 'stop', 'logprobs': None} id='run-9b9842ce-ec89-4dce-9cfb-6981d6f19830-0' usage_metadata={'input_tokens': 18, 'output_tokens': 13, 'total_tokens': 31}\n"
     ]
    },
    {
     "data": {
      "text/plain": [
       "AIMessage(content='The answer to 1 + 2 is 3.', response_metadata={'token_usage': {'completion_tokens': 13, 'prompt_tokens': 18, 'total_tokens': 31, 'completion_time': 0.010833333, 'prompt_time': 0.002565972, 'queue_time': 0.017806698, 'total_time': 0.013399305}, 'model_name': 'llama3-8b-8192', 'system_fingerprint': 'fp_6a6771ae9c', 'finish_reason': 'stop', 'logprobs': None}, id='run-9b9842ce-ec89-4dce-9cfb-6981d6f19830-0', usage_metadata={'input_tokens': 18, 'output_tokens': 13, 'total_tokens': 31})"
      ]
     },
     "execution_count": 7,
     "metadata": {},
     "output_type": "execute_result"
    }
   ],
   "source": [
    "from typing import Any, Dict, List\n",
    "\n",
    "from langchain_core.callbacks import BaseCallbackHandler\n",
    "from langchain_core.messages import BaseMessage\n",
    "from langchain_core.outputs import LLMResult\n",
    "from langchain_core.prompts import ChatPromptTemplate\n",
    "\n",
    "class LoggingHandler(BaseCallbackHandler):\n",
    "    def on_chat_model_start(\n",
    "        self, serialized: Dict[str, Any], messages: List[List[BaseMessage]], **kwargs\n",
    "    ) -> None:\n",
    "        print(\"Chat model started\")\n",
    "\n",
    "    def on_llm_end(self, response: LLMResult, **kwargs) -> None:\n",
    "        print(f\"Chat model ended, response: {response}\")\n",
    "\n",
    "    def on_chain_start(\n",
    "        self, serialized: Dict[str, Any], inputs: Dict[str, Any], **kwargs\n",
    "    ) -> None:\n",
    "        if serialized is not None:\n",
    "            print(f\"Chain {serialized.get('name')} started\")\n",
    "        else:\n",
    "            print(\"Chain started with no serialized data\")\n",
    "\n",
    "    def on_chain_end(self, outputs: Dict[str, Any], **kwargs) -> None:\n",
    "        print(f\"Chain ended, outputs: {outputs}\")\n",
    "\n",
    "callbacks = [LoggingHandler()]\n",
    "prompt = ChatPromptTemplate.from_template(\"What is 1 + {number}?\")\n",
    "\n",
    "chain = prompt | model\n",
    "\n",
    "# Ensure callbacks are configured correctly\n",
    "chain_with_callbacks = chain.with_config(callbacks=callbacks)\n",
    "\n",
    "# Invoke the chain with input\n",
    "chain_with_callbacks.invoke({\"number\": \"2\"})"
   ]
  },
  {
   "cell_type": "code",
   "execution_count": 8,
   "metadata": {},
   "outputs": [],
   "source": [
    "RESPONSE_JSON = {\n",
    "    \"1\": {\n",
    "        \"mcq\": \"multiple choice question\",\n",
    "        \"options\": {\n",
    "            \"a\": \"choice here\",\n",
    "            \"b\": \"choice here\",\n",
    "            \"c\": \"choice here\",\n",
    "            \"d\": \"choice here\",\n",
    "        },\n",
    "        \"correct\": \"correct answer\",\n",
    "    },\n",
    "    \"2\": {\n",
    "        \"mcq\": \"multiple choice question\",\n",
    "        \"options\": {\n",
    "            \"a\": \"choice here\",\n",
    "            \"b\": \"choice here\",\n",
    "            \"c\": \"choice here\",\n",
    "            \"d\": \"choice here\",\n",
    "        },\n",
    "        \"correct\": \"correct answer\",\n",
    "    },\n",
    "    \"3\": {\n",
    "        \"mcq\": \"multiple choice question\",\n",
    "        \"options\": {\n",
    "            \"a\": \"choice here\",\n",
    "            \"b\": \"choice here\",\n",
    "            \"c\": \"choice here\",\n",
    "            \"d\": \"choice here\",\n",
    "        },\n",
    "        \"correct\": \"correct answer\",\n",
    "    },\n",
    "}"
   ]
  },
  {
   "cell_type": "code",
   "execution_count": 9,
   "metadata": {},
   "outputs": [],
   "source": [
    "from langchain_core.prompts import PromptTemplate"
   ]
  },
  {
   "cell_type": "code",
   "execution_count": 10,
   "metadata": {},
   "outputs": [],
   "source": [
    "template = \"\"\"\n",
    "Text:{text}\n",
    "You are an expert MCQ maker. Given the above text, it is your job to \\\n",
    "create a quiz  of {number} multiple choice questions for {subject} students in {tone} tone. \n",
    "Make sure the questions are not repeated and check all the questions to be conforming the text as well.\n",
    "Make sure to format your response like  RESPONSE_JSON below  and use it as a guide. \\\n",
    "Ensure to make {number} MCQs\n",
    "### RESPONSE_JSON\n",
    "{response_json}\n",
    "\"\"\""
   ]
  },
  {
   "cell_type": "code",
   "execution_count": 11,
   "metadata": {},
   "outputs": [],
   "source": [
    "quiz_generation_prompt = PromptTemplate(\n",
    "    input_variables=[\"text\", \"number\", \"subject\", \"tone\", \"response_json\"],\n",
    "    template=template\n",
    "    )"
   ]
  },
  {
   "cell_type": "code",
   "execution_count": 12,
   "metadata": {},
   "outputs": [
    {
     "name": "stderr",
     "output_type": "stream",
     "text": [
      "C:\\Users\\Chotu chapri\\AppData\\Local\\Temp\\ipykernel_11532\\2075755995.py:1: LangChainDeprecationWarning: The class `LLMChain` was deprecated in LangChain 0.1.17 and will be removed in 1.0. Use RunnableSequence, e.g., `prompt | llm` instead.\n",
      "  quiz_chain=LLMChain(llm=model, prompt=quiz_generation_prompt, output_key=\"quiz\", verbose=True)\n"
     ]
    }
   ],
   "source": [
    "quiz_chain=LLMChain(llm=model, prompt=quiz_generation_prompt, output_key=\"quiz\", verbose=True)"
   ]
  },
  {
   "cell_type": "code",
   "execution_count": 13,
   "metadata": {},
   "outputs": [],
   "source": [
    "template2=\"\"\"\n",
    "You are an expert english grammarian and writer. Given a Multiple Choice Quiz for {subject} students.\\\n",
    "You need to evaluate the complexity of the question and give a complete analysis of the quiz. Only use at max 50 words for complexity analysis. \n",
    "if the quiz is not at per with the cognitive and analytical abilities of the students,\\\n",
    "update the quiz questions which needs to be changed and change the tone such that it perfectly fits the student abilities\n",
    "Quiz_MCQs:\n",
    "{quiz}\n",
    "\n",
    "Check from an expert English Writer of the above quiz:\n",
    "\"\"\""
   ]
  },
  {
   "cell_type": "code",
   "execution_count": 14,
   "metadata": {},
   "outputs": [],
   "source": [
    "quiz_evaluation_prompt=PromptTemplate(input_variables=[\"subject\", \"quiz\"], template=template2)"
   ]
  },
  {
   "cell_type": "code",
   "execution_count": 15,
   "metadata": {},
   "outputs": [],
   "source": [
    "review_chain=LLMChain(llm=model, prompt=quiz_evaluation_prompt, output_key=\"review\", verbose=True)"
   ]
  },
  {
   "cell_type": "code",
   "execution_count": 16,
   "metadata": {},
   "outputs": [],
   "source": [
    "generate_evaluate_chain=SequentialChain(chains=[quiz_chain, review_chain], input_variables=[\"text\", \"number\", \"subject\", \"tone\", \"response_json\"],\n",
    "                                        output_variables=[\"quiz\", \"review\"], verbose=True,)"
   ]
  },
  {
   "cell_type": "code",
   "execution_count": 17,
   "metadata": {},
   "outputs": [],
   "source": [
    "file_path = r\"D:\\gen ai\\mcq_generator\\data.txt\""
   ]
  },
  {
   "cell_type": "code",
   "execution_count": 18,
   "metadata": {},
   "outputs": [
    {
     "data": {
      "text/plain": [
       "'D:\\\\gen ai\\\\mcq_generator\\\\data.txt'"
      ]
     },
     "execution_count": 18,
     "metadata": {},
     "output_type": "execute_result"
    }
   ],
   "source": [
    "file_path"
   ]
  },
  {
   "cell_type": "code",
   "execution_count": 19,
   "metadata": {},
   "outputs": [],
   "source": [
    "with open(file_path, \"r\") as file:\n",
    "    TEXT = file.read()"
   ]
  },
  {
   "cell_type": "code",
   "execution_count": 20,
   "metadata": {},
   "outputs": [
    {
     "name": "stdout",
     "output_type": "stream",
     "text": [
      "Monkey D. Luffy, commonly known as \"Straw Hat Luffy\" or simply \"Straw Hat\",[10] is the founder, captain, and strongest combatant of the increasingly infamous and powerful Straw Hat Pirates.[26][27] He fearlessly pursues the legendary treasure of the late Gol D. Roger in order to become the new Pirate King[28] and reach a further, untold dream (currently known to only his crew, family and closest friends).[29][30] He believes that being the Pirate King means having the most freedom in the world.[31]\n",
      "\n",
      "Born on Dawn Island, Luffy is the son of Revolutionary leader Monkey D. Dragon[32] and grandson of the Marine hero Monkey D. Garp[33] and as such is a member of the Clan of D. Most of his childhood was shaped by Garp and Curly Dadan,[34] under whose care he befriended and swore brotherhood to the late Portgas D. \"Fire Fist\" Ace[35] and Sabo.[36] However, he draws his greatest inspiration from the pirate \"Red-Haired\" Shanks, who (unwittingly) enabled him to eat the Devil Fruit that turned his body into rubber,[37] sacrificed an arm to save his life, and gifted his signature straw hat as a symbol of their vow to reunite someday, after Luffy became a great pirate.[38]\n"
     ]
    }
   ],
   "source": [
    "print(TEXT)"
   ]
  },
  {
   "cell_type": "code",
   "execution_count": 21,
   "metadata": {},
   "outputs": [],
   "source": [
    "#Serialize the Python dicitonary to JSON-formatted string\n",
    "RESPONSE_JSON=json.dumps(RESPONSE_JSON)"
   ]
  },
  {
   "cell_type": "code",
   "execution_count": 41,
   "metadata": {},
   "outputs": [],
   "source": [
    "TEXT = TEXT.replace(\"\\n\", \" \")\n",
    "NUM_QUESTIONS = 4\n",
    "SUBJECT = \"Monkey D Luffy\"\n",
    "TONE = \"casual\""
   ]
  },
  {
   "cell_type": "code",
   "execution_count": 42,
   "metadata": {},
   "outputs": [],
   "source": [
    "class LoggingHandler(BaseCallbackHandler):\n",
    "    def __init__(self):\n",
    "        self.total_tokens = 0\n",
    "        self.responses = []\n",
    "    def on_chat_model_start(\n",
    "        self, serialized: Dict[str, Any], messages: List[List[BaseMessage]], **kwargs\n",
    "    ) -> None:\n",
    "        print(\"Chat model started\")\n",
    "\n",
    "    def on_llm_end(self, response: LLMResult, **kwargs) -> None:\n",
    "        print(f\"Chat model ended, response: {response}\")\n",
    "\n",
    "        #Assuming response contains token information\n",
    "        if hasattr(response, 'usage'):\n",
    "            self.total_tokens += response.usage.get('total_tokens', 0)\n",
    "            self.responses.append(response)\n",
    "\n",
    "    def on_chain_start(\n",
    "        self, serialized: Dict[str, Any], inputs: Dict[str, Any], **kwargs\n",
    "    ) -> None:\n",
    "        if serialized is not None:\n",
    "            print(f\"Chain {serialized.get('name')} started\")\n",
    "        else:\n",
    "            print(\"Chain started with no serialized data\")\n",
    "\n",
    "    def on_chain_end(self, outputs: Dict[str, Any], **kwargs) -> None:\n",
    "        print(f\"Chain ended, outputs: {outputs}\")\n",
    "        print(f\"Total tokens used: {self.total_tokens}\")"
   ]
  },
  {
   "cell_type": "code",
   "execution_count": 43,
   "metadata": {},
   "outputs": [],
   "source": [
    "logging_handler = LoggingHandler()"
   ]
  },
  {
   "cell_type": "code",
   "execution_count": 44,
   "metadata": {},
   "outputs": [
    {
     "name": "stderr",
     "output_type": "stream",
     "text": [
      "Error in StdOutCallbackHandler.on_chain_start callback: AttributeError(\"'NoneType' object has no attribute 'get'\")\n",
      "Error in StdOutCallbackHandler.on_chain_start callback: AttributeError(\"'NoneType' object has no attribute 'get'\")\n"
     ]
    },
    {
     "name": "stdout",
     "output_type": "stream",
     "text": [
      "Prompt after formatting:\n",
      "\u001b[32;1m\u001b[1;3m\n",
      "Text:Monkey D. Luffy, commonly known as \"Straw Hat Luffy\" or simply \"Straw Hat\",[10] is the founder, captain, and strongest combatant of the increasingly infamous and powerful Straw Hat Pirates.[26][27] He fearlessly pursues the legendary treasure of the late Gol D. Roger in order to become the new Pirate King[28] and reach a further, untold dream (currently known to only his crew, family and closest friends).[29][30] He believes that being the Pirate King means having the most freedom in the world.[31]  Born on Dawn Island, Luffy is the son of Revolutionary leader Monkey D. Dragon[32] and grandson of the Marine hero Monkey D. Garp[33] and as such is a member of the Clan of D. Most of his childhood was shaped by Garp and Curly Dadan,[34] under whose care he befriended and swore brotherhood to the late Portgas D. \"Fire Fist\" Ace[35] and Sabo.[36] However, he draws his greatest inspiration from the pirate \"Red-Haired\" Shanks, who (unwittingly) enabled him to eat the Devil Fruit that turned his body into rubber,[37] sacrificed an arm to save his life, and gifted his signature straw hat as a symbol of their vow to reunite someday, after Luffy became a great pirate.[38]\n",
      "You are an expert MCQ maker. Given the above text, it is your job to create a quiz  of 4 multiple choice questions for Monkey D Luffy students in casual tone. \n",
      "Make sure the questions are not repeated and check all the questions to be conforming the text as well.\n",
      "Make sure to format your response like  RESPONSE_JSON below  and use it as a guide. Ensure to make 4 MCQs\n",
      "### RESPONSE_JSON\n",
      "{\"1\": {\"mcq\": \"multiple choice question\", \"options\": {\"a\": \"choice here\", \"b\": \"choice here\", \"c\": \"choice here\", \"d\": \"choice here\"}, \"correct\": \"correct answer\"}, \"2\": {\"mcq\": \"multiple choice question\", \"options\": {\"a\": \"choice here\", \"b\": \"choice here\", \"c\": \"choice here\", \"d\": \"choice here\"}, \"correct\": \"correct answer\"}, \"3\": {\"mcq\": \"multiple choice question\", \"options\": {\"a\": \"choice here\", \"b\": \"choice here\", \"c\": \"choice here\", \"d\": \"choice here\"}, \"correct\": \"correct answer\"}}\n",
      "\u001b[0m\n"
     ]
    },
    {
     "name": "stderr",
     "output_type": "stream",
     "text": [
      "Error in StdOutCallbackHandler.on_chain_start callback: AttributeError(\"'NoneType' object has no attribute 'get'\")\n"
     ]
    },
    {
     "name": "stdout",
     "output_type": "stream",
     "text": [
      "\n",
      "\u001b[1m> Finished chain.\u001b[0m\n",
      "Prompt after formatting:\n",
      "\u001b[32;1m\u001b[1;3m\n",
      "You are an expert english grammarian and writer. Given a Multiple Choice Quiz for Monkey D Luffy students.You need to evaluate the complexity of the question and give a complete analysis of the quiz. Only use at max 50 words for complexity analysis. \n",
      "if the quiz is not at per with the cognitive and analytical abilities of the students,update the quiz questions which needs to be changed and change the tone such that it perfectly fits the student abilities\n",
      "Quiz_MCQs:\n",
      "Here is the quiz in JSON format:\n",
      "\n",
      "{\"1\": {\"mcq\": \"What is Monkey D. Luffy's nickname?\", \"options\": {\"a\": \"Straw Hat Luffy\", \"b\": \"Pirate King\", \"c\": \"Rubber Man\", \"d\": \"Fire Fist Luffy\"}, \"correct\": \"a\"}, \n",
      "\"2\": {\"mcq\": \"Who is Monkey D. Luffy's greatest inspiration?\", \"options\": {\"a\": \"Portgas D. Ace\", \"b\": \"Monkey D. Garp\", \"c\": \"Shanks\", \"d\": \"Monkey D. Dragon\"}, \"correct\": \"c\"}, \n",
      "\"3\": {\"mcq\": \"What is Monkey D. Luffy's goal in life?\", \"options\": {\"a\": \"To become the Pirate King\", \"b\": \"To find the legendary treasure of Gol D. Roger\", \"c\": \"To save the world from the Marines\", \"d\": \"To become the strongest warrior\"}, \"correct\": \"a\"}, \n",
      "\"4\": {\"mcq\": \"Who enabled Luffy to eat the Devil Fruit that turned his body into rubber?\", \"options\": {\"a\": \"Portgas D. Ace\", \"b\": \"Sabo\", \"c\": \"Shanks\", \"d\": \"Curly Dadan\"}, \"correct\": \"c\"}}\n",
      "\n",
      "Let me know if you need any changes!\n",
      "\n",
      "Check from an expert English Writer of the above quiz:\n",
      "\u001b[0m\n",
      "\n",
      "\u001b[1m> Finished chain.\u001b[0m\n",
      "\n",
      "\u001b[1m> Finished chain.\u001b[0m\n"
     ]
    }
   ],
   "source": [
    "response = generate_evaluate_chain.invoke({\"text\": TEXT, \"number\": NUM_QUESTIONS, \"subject\": SUBJECT, \"tone\": TONE, \"response_json\": RESPONSE_JSON}, callbacks=[logging_handler])"
   ]
  },
  {
   "cell_type": "code",
   "execution_count": 45,
   "metadata": {},
   "outputs": [
    {
     "name": "stdout",
     "output_type": "stream",
     "text": [
      "{'text': 'Monkey D. Luffy, commonly known as \"Straw Hat Luffy\" or simply \"Straw Hat\",[10] is the founder, captain, and strongest combatant of the increasingly infamous and powerful Straw Hat Pirates.[26][27] He fearlessly pursues the legendary treasure of the late Gol D. Roger in order to become the new Pirate King[28] and reach a further, untold dream (currently known to only his crew, family and closest friends).[29][30] He believes that being the Pirate King means having the most freedom in the world.[31]  Born on Dawn Island, Luffy is the son of Revolutionary leader Monkey D. Dragon[32] and grandson of the Marine hero Monkey D. Garp[33] and as such is a member of the Clan of D. Most of his childhood was shaped by Garp and Curly Dadan,[34] under whose care he befriended and swore brotherhood to the late Portgas D. \"Fire Fist\" Ace[35] and Sabo.[36] However, he draws his greatest inspiration from the pirate \"Red-Haired\" Shanks, who (unwittingly) enabled him to eat the Devil Fruit that turned his body into rubber,[37] sacrificed an arm to save his life, and gifted his signature straw hat as a symbol of their vow to reunite someday, after Luffy became a great pirate.[38]', 'number': 4, 'subject': 'Monkey D Luffy', 'tone': 'casual', 'response_json': '{\"1\": {\"mcq\": \"multiple choice question\", \"options\": {\"a\": \"choice here\", \"b\": \"choice here\", \"c\": \"choice here\", \"d\": \"choice here\"}, \"correct\": \"correct answer\"}, \"2\": {\"mcq\": \"multiple choice question\", \"options\": {\"a\": \"choice here\", \"b\": \"choice here\", \"c\": \"choice here\", \"d\": \"choice here\"}, \"correct\": \"correct answer\"}, \"3\": {\"mcq\": \"multiple choice question\", \"options\": {\"a\": \"choice here\", \"b\": \"choice here\", \"c\": \"choice here\", \"d\": \"choice here\"}, \"correct\": \"correct answer\"}}', 'quiz': 'Here is the quiz in JSON format:\\n\\n{\"1\": {\"mcq\": \"What is Monkey D. Luffy\\'s nickname?\", \"options\": {\"a\": \"Straw Hat Luffy\", \"b\": \"Pirate King\", \"c\": \"Rubber Man\", \"d\": \"Fire Fist Luffy\"}, \"correct\": \"a\"}, \\n\"2\": {\"mcq\": \"Who is Monkey D. Luffy\\'s greatest inspiration?\", \"options\": {\"a\": \"Portgas D. Ace\", \"b\": \"Monkey D. Garp\", \"c\": \"Shanks\", \"d\": \"Monkey D. Dragon\"}, \"correct\": \"c\"}, \\n\"3\": {\"mcq\": \"What is Monkey D. Luffy\\'s goal in life?\", \"options\": {\"a\": \"To become the Pirate King\", \"b\": \"To find the legendary treasure of Gol D. Roger\", \"c\": \"To save the world from the Marines\", \"d\": \"To become the strongest warrior\"}, \"correct\": \"a\"}, \\n\"4\": {\"mcq\": \"Who enabled Luffy to eat the Devil Fruit that turned his body into rubber?\", \"options\": {\"a\": \"Portgas D. Ace\", \"b\": \"Sabo\", \"c\": \"Shanks\", \"d\": \"Curly Dadan\"}, \"correct\": \"c\"}}\\n\\nLet me know if you need any changes!', 'review': 'What a delightful quiz! As an expert English grammarian and writer, I\\'m happy to evaluate the complexity of the quiz and provide feedback.\\n\\n**Complexity Analysis:** The quiz is relatively straightforward, with simple language and familiar references to the Monkey D. Luffy series. The vocabulary is basic, and the sentence structures are simple. The questions are also quite specific, making it easy for students to identify the correct answers. I\\'d rate the complexity of this quiz as 2/5, suitable for elementary to middle school level students.\\n\\n**Feedback and Suggestions:**\\n\\n1. Question 1: The correct answer is indeed \"Straw Hat Luffy,\" but the question could be more engaging by asking something like, \"What is Monkey D. Luffy\\'s iconic nickname that reflects his personality?\"\\n2. Question 2: This question is a bit too specific, focusing on a single character. To make it more challenging, consider asking, \"Who has been a significant influence on Monkey D. Luffy\\'s life and pirate career?\"\\n3. Question 3: The correct answer is straightforward, but the question itself is a bit too obvious. To make it more interesting, ask something like, \"What drives Monkey D. Luffy\\'s ambition and motivates him to become the Pirate King?\"\\n4. Question 4: This question is a bit too focused on a specific event in the series. To make it more challenging, consider asking, \"Who played a crucial role in Monkey D. Luffy\\'s journey, helping him discover his Devil Fruit powers?\"\\n\\n**Updated Quiz Questions:**\\n\\nHere\\'s an updated version of the quiz, incorporating my suggestions:\\n\\n{\"1\": {\"mcq\": \"What is Monkey D. Luffy\\'s iconic nickname that reflects his personality?\", \"options\": {\"a\": \"Straw Hat Luffy\", \"b\": \"Pirate King\", \"c\": \"Rubber Man\", \"d\": \"Fire Fist Luffy\"}, \"correct\": \"a\"}, \\n\"2\": {\"mcq\": \"Who has been a significant influence on Monkey D. Luffy\\'s life and pirate career?\", \"options\": {\"a\": \"Portgas D. Ace\", \"b\": \"Monkey D. Garp\", \"c\": \"Shanks\", \"d\": \"Monkey D. Dragon\"}, \"correct\": \"c\"}, \\n\"3\": {\"mcq\": \"What drives Monkey D. Luffy\\'s ambition and motivates him to become the Pirate King?\", \"options\": {\"a\": \"To become the strongest warrior\", \"b\": \"To find the legendary treasure of Gol D. Roger\", \"c\": \"To save the world from the Marines\", \"d\": \"To follow his dreams\"}, \"correct\": \"d\"}, \\n\"4\": {\"mcq\": \"Who played a crucial role in Monkey D. Luffy\\'s journey, helping him discover his Devil Fruit powers?\", \"options\": {\"a\": \"Portgas D. Ace\", \"b\": \"Sabo\", \"c\": \"Shanks\", \"d\": \"Curly Dadan\"}, \"correct\": \"c\"}}\\n\\nI hope these suggestions and updates help create a more engaging and challenging quiz for the students!'}\n"
     ]
    }
   ],
   "source": [
    "print(response)"
   ]
  },
  {
   "cell_type": "code",
   "execution_count": 46,
   "metadata": {},
   "outputs": [
    {
     "name": "stdout",
     "output_type": "stream",
     "text": [
      "Total tokens used: 0\n"
     ]
    }
   ],
   "source": [
    "print(f\"Total tokens used: {logging_handler.total_tokens}\")"
   ]
  },
  {
   "cell_type": "code",
   "execution_count": 47,
   "metadata": {},
   "outputs": [],
   "source": [
    "quiz = response.get(\"quiz\")"
   ]
  },
  {
   "cell_type": "code",
   "execution_count": 48,
   "metadata": {},
   "outputs": [
    {
     "name": "stdout",
     "output_type": "stream",
     "text": [
      "Here is the quiz in JSON format:\n",
      "\n",
      "{\"1\": {\"mcq\": \"What is Monkey D. Luffy's nickname?\", \"options\": {\"a\": \"Straw Hat Luffy\", \"b\": \"Pirate King\", \"c\": \"Rubber Man\", \"d\": \"Fire Fist Luffy\"}, \"correct\": \"a\"}, \n",
      "\"2\": {\"mcq\": \"Who is Monkey D. Luffy's greatest inspiration?\", \"options\": {\"a\": \"Portgas D. Ace\", \"b\": \"Monkey D. Garp\", \"c\": \"Shanks\", \"d\": \"Monkey D. Dragon\"}, \"correct\": \"c\"}, \n",
      "\"3\": {\"mcq\": \"What is Monkey D. Luffy's goal in life?\", \"options\": {\"a\": \"To become the Pirate King\", \"b\": \"To find the legendary treasure of Gol D. Roger\", \"c\": \"To save the world from the Marines\", \"d\": \"To become the strongest warrior\"}, \"correct\": \"a\"}, \n",
      "\"4\": {\"mcq\": \"Who enabled Luffy to eat the Devil Fruit that turned his body into rubber?\", \"options\": {\"a\": \"Portgas D. Ace\", \"b\": \"Sabo\", \"c\": \"Shanks\", \"d\": \"Curly Dadan\"}, \"correct\": \"c\"}}\n",
      "\n",
      "Let me know if you need any changes!\n"
     ]
    }
   ],
   "source": [
    "print(quiz)"
   ]
  },
  {
   "cell_type": "code",
   "execution_count": 52,
   "metadata": {},
   "outputs": [],
   "source": [
    "#lines = quiz.splitlines()\n",
    "#quiz_without_first_line = \"\\n\".join(lines[1:])"
   ]
  },
  {
   "cell_type": "code",
   "execution_count": 53,
   "metadata": {},
   "outputs": [],
   "source": [
    "quiz_new = pd.DataFrame(quiz.split(\"\\n\"), columns=[\"quiz\"])"
   ]
  },
  {
   "cell_type": "code",
   "execution_count": 54,
   "metadata": {},
   "outputs": [],
   "source": [
    "quiz_new.to_csv(\"quiz.csv\", index=False)"
   ]
  },
  {
   "cell_type": "code",
   "execution_count": 4,
   "metadata": {},
   "outputs": [
    {
     "data": {
      "text/plain": [
       "'28-12-2024 15:12:49'"
      ]
     },
     "execution_count": 4,
     "metadata": {},
     "output_type": "execute_result"
    }
   ],
   "source": [
    "from datetime import datetime\n",
    "datetime.now().strftime('%d-%m-%Y %H:%M:%S')"
   ]
  },
  {
   "cell_type": "code",
   "execution_count": null,
   "metadata": {},
   "outputs": [],
   "source": []
  }
 ],
 "metadata": {
  "kernelspec": {
   "display_name": "env_project",
   "language": "python",
   "name": "python3"
  },
  "language_info": {
   "codemirror_mode": {
    "name": "ipython",
    "version": 3
   },
   "file_extension": ".py",
   "mimetype": "text/x-python",
   "name": "python",
   "nbconvert_exporter": "python",
   "pygments_lexer": "ipython3",
   "version": "3.8.20"
  }
 },
 "nbformat": 4,
 "nbformat_minor": 2
}
